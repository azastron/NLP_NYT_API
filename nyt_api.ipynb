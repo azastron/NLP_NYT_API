{
 "cells": [
  {
   "cell_type": "markdown",
   "metadata": {},
   "source": [
    "# Scraping NYT Articles and using NLP methods \n",
    "This is to identify and learn about potential EdTech donors!  "
   ]
  },
  {
   "cell_type": "code",
   "execution_count": 1,
   "metadata": {},
   "outputs": [],
   "source": [
    "import requests\n",
    "import os\n",
    "from pprint import pprint"
   ]
  },
  {
   "cell_type": "code",
   "execution_count": 2,
   "metadata": {},
   "outputs": [],
   "source": [
    "apikey = os.getenv('NYTIMES_APIKEY','7Hr6Jt7ukI7pXR3vPLNiNevNPUJweHuw')"
   ]
  },
  {
   "cell_type": "markdown",
   "metadata": {},
   "source": [
    "## Look up for current top stories:\n",
    "https://developer.nytimes.com/docs/top-stories-product/1/overview"
   ]
  },
  {
   "cell_type": "code",
   "execution_count": 25,
   "metadata": {},
   "outputs": [],
   "source": [
    "section = \"education\"\n",
    "query_url = f\"https://api.nytimes.com/svc/topstories/v2/{section}.json?api-key={apikey}\"\n",
    "\n",
    "r = requests.get(query_url)\n",
    "#pprint(r.json())"
   ]
  },
  {
   "cell_type": "markdown",
   "metadata": {},
   "source": [
    "## Article Search Endpoint\n",
    "https://developer.nytimes.com/docs/articlesearch-product/1/routes/articlesearch.json/get"
   ]
  },
  {
   "cell_type": "code",
   "execution_count": 28,
   "metadata": {},
   "outputs": [],
   "source": [
    "query = \"education\"\n",
    "begin_date = \"20210915\" # YYYYMMDD\n",
    "#filter_query = \"\\\"body:(\\\"space\\\") AND glocations:(\\\"BOSTON\\\")\\\"\"\n",
    "filter_query = \"\\\"news_desk:(\\\"education\\\") AND glocations:(\\\"NEW YORK CITY\\\")\\\"\"\n",
    "page = \"0\" # <0-100>\n",
    "sort = \"relevance\" # newest, oldest\n",
    "query_url = f\"https://api.nytimes.com/svc/search/v2/articlesearch.json?\" \\\n",
    "f\"q={query}\" \\\n",
    "f\"&api-key={apikey}\" \\\n",
    "f\"&begin_date={begin_date}\" \\\n",
    "f\"&fq={filter_query}\" \\\n",
    "f\"&page={page}\" \\\n",
    "f\"&sort={sort}\" \\\n",
    "\n",
    "r = requests.get(query_url)\n",
    "\n",
    "jsonfile = r.json()\n",
    "#pprint(jsonfile)"
   ]
  },
  {
   "cell_type": "code",
   "execution_count": 29,
   "metadata": {},
   "outputs": [
    {
     "data": {
      "text/plain": [
       "dict_keys(['status', 'copyright', 'response'])"
      ]
     },
     "execution_count": 29,
     "metadata": {},
     "output_type": "execute_result"
    }
   ],
   "source": [
    "jsonfile.keys()"
   ]
  },
  {
   "cell_type": "code",
   "execution_count": 42,
   "metadata": {},
   "outputs": [
    {
     "data": {
      "text/plain": [
       "dict_keys(['abstract', 'web_url', 'snippet', 'lead_paragraph', 'source', 'multimedia', 'headline', 'keywords', 'pub_date', 'document_type', 'news_desk', 'section_name', 'byline', 'type_of_material', '_id', 'word_count', 'uri'])"
      ]
     },
     "execution_count": 42,
     "metadata": {},
     "output_type": "execute_result"
    }
   ],
   "source": [
    "jsonfile['response']['docs'][0].keys()"
   ]
  },
  {
   "cell_type": "code",
   "execution_count": 43,
   "metadata": {},
   "outputs": [
    {
     "data": {
      "text/plain": [
       "'https://www.nytimes.com/2021/09/15/learning/schools-vaccine-mandates.html'"
      ]
     },
     "execution_count": 43,
     "metadata": {},
     "output_type": "execute_result"
    }
   ],
   "source": [
    "jsonfile['response']['docs'][0]['web_url']"
   ]
  },
  {
   "cell_type": "code",
   "execution_count": 40,
   "metadata": {},
   "outputs": [
    {
     "data": {
      "text/plain": [
       "{'abstract': 'Los Angeles became the first major school district to mandate vaccines for students 12 and older who are attending class in person. Should all school districts follow suit?',\n",
       " 'web_url': 'https://www.nytimes.com/2021/09/15/learning/schools-vaccine-mandates.html',\n",
       " 'snippet': 'Los Angeles became the first major school district to mandate vaccines for students 12 and older who are attending class in person. Should all school districts follow suit?',\n",
       " 'lead_paragraph': 'Were you required to receive certain vaccinations, such as those for protection against chickenpox or measles, before attending school or summer camp? Do you believe it is important for schools to require vaccinations like these to keep all students safe? Or do you think it should be up to individual families to decide?',\n",
       " 'source': 'The New York Times',\n",
       " 'multimedia': [],\n",
       " 'headline': {'main': 'Should Schools Require Students to Get the Coronavirus Vaccine?',\n",
       "  'kicker': 'student opinion',\n",
       "  'content_kicker': None,\n",
       "  'print_headline': None,\n",
       "  'name': None,\n",
       "  'seo': None,\n",
       "  'sub': None},\n",
       " 'keywords': [{'name': 'subject',\n",
       "   'value': 'Coronavirus (2019-nCoV)',\n",
       "   'rank': 1,\n",
       "   'major': 'N'},\n",
       "  {'name': 'subject',\n",
       "   'value': 'Vaccination and Immunization',\n",
       "   'rank': 2,\n",
       "   'major': 'N'},\n",
       "  {'name': 'subject', 'value': 'Education (K-12)', 'rank': 3, 'major': 'N'}],\n",
       " 'pub_date': '2021-09-15T09:00:10+0000',\n",
       " 'document_type': 'article',\n",
       " 'news_desk': 'Learning',\n",
       " 'section_name': 'The Learning Network',\n",
       " 'byline': {'original': 'By Nicole Daniels',\n",
       "  'person': [{'firstname': 'Nicole',\n",
       "    'middlename': None,\n",
       "    'lastname': 'Daniels',\n",
       "    'qualifier': None,\n",
       "    'title': None,\n",
       "    'role': 'reported',\n",
       "    'organization': '',\n",
       "    'rank': 1}],\n",
       "  'organization': None},\n",
       " 'type_of_material': 'News',\n",
       " '_id': 'nyt://article/4cfe721a-5fd1-5de2-9e25-f047b404686b',\n",
       " 'word_count': 1012,\n",
       " 'uri': 'nyt://article/4cfe721a-5fd1-5de2-9e25-f047b404686b'}"
      ]
     },
     "execution_count": 40,
     "metadata": {},
     "output_type": "execute_result"
    }
   ],
   "source": [
    "jsonfile['response']['docs'][0]"
   ]
  },
  {
   "cell_type": "code",
   "execution_count": 44,
   "metadata": {},
   "outputs": [],
   "source": [
    "def get_articles(file):\n",
    "    \n",
    "    article_results = []\n",
    "    \n",
    "    for i in range(len(file)):\n",
    "        article_dict = {}\n",
    "        \n",
    "        article_dict['web_url'] = file[i]['web_url']\n",
    "        article_dict['abstract'] = file[i]['abstract']\n",
    "        \n",
    "        article_results.append(article_dict)\n",
    "        \n",
    "    return article_results"
   ]
  },
  {
   "cell_type": "code",
   "execution_count": 45,
   "metadata": {},
   "outputs": [],
   "source": [
    "list_articles = get_articles(jsonfile['response']['docs'])"
   ]
  },
  {
   "cell_type": "code",
   "execution_count": 46,
   "metadata": {},
   "outputs": [
    {
     "data": {
      "text/plain": [
       "10"
      ]
     },
     "execution_count": 46,
     "metadata": {},
     "output_type": "execute_result"
    }
   ],
   "source": [
    "len(list_articles)"
   ]
  },
  {
   "cell_type": "code",
   "execution_count": 50,
   "metadata": {},
   "outputs": [
    {
     "data": {
      "text/plain": [
       "{'web_url': 'https://www.nytimes.com/2021/09/15/learning/schools-vaccine-mandates.html',\n",
       " 'abstract': 'Los Angeles became the first major school district to mandate vaccines for students 12 and older who are attending class in person. Should all school districts follow suit?'}"
      ]
     },
     "execution_count": 50,
     "metadata": {},
     "output_type": "execute_result"
    }
   ],
   "source": [
    "list_articles[0]"
   ]
  },
  {
   "cell_type": "code",
   "execution_count": null,
   "metadata": {},
   "outputs": [],
   "source": []
  }
 ],
 "metadata": {
  "kernelspec": {
   "display_name": "Python 3",
   "language": "python",
   "name": "python3"
  },
  "language_info": {
   "codemirror_mode": {
    "name": "ipython",
    "version": 3
   },
   "file_extension": ".py",
   "mimetype": "text/x-python",
   "name": "python",
   "nbconvert_exporter": "python",
   "pygments_lexer": "ipython3",
   "version": "3.7.4"
  }
 },
 "nbformat": 4,
 "nbformat_minor": 2
}
