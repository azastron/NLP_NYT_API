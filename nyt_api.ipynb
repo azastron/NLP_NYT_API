{
 "cells": [
  {
   "cell_type": "markdown",
   "metadata": {},
   "source": [
    "# Scraping NYT Articles and using NLP methods \n",
    "This is to identify and learn about potential EdTech donors!  "
   ]
  },
  {
   "cell_type": "code",
   "execution_count": 14,
   "metadata": {},
   "outputs": [],
   "source": [
    "# might need to use Beautiful Soup and Pickle for this work too.\n",
    "import requests\n",
    "import os\n",
    "from pprint import pprint\n",
    "\n",
    "#my usual suspects\n",
    "import pandas as pd\n",
    "import numpy as np\n",
    "import scipy as sp\n",
    "import matplotlib.pyplot as plt\n",
    "%matplotlib inline"
   ]
  },
  {
   "cell_type": "code",
   "execution_count": 60,
   "metadata": {},
   "outputs": [],
   "source": [
    "nyt_apikey = open('../nyt_apikey.txt','r')"
   ]
  },
  {
   "cell_type": "code",
   "execution_count": 61,
   "metadata": {},
   "outputs": [],
   "source": [
    "file = nyt_apikey.read().splitlines()"
   ]
  },
  {
   "cell_type": "code",
   "execution_count": 62,
   "metadata": {},
   "outputs": [],
   "source": [
    "myapikey = file[0]"
   ]
  },
  {
   "cell_type": "code",
   "execution_count": 63,
   "metadata": {},
   "outputs": [],
   "source": [
    "apikey = os.getenv('NYTIMES_APIKEY', myapikey)"
   ]
  },
  {
   "cell_type": "markdown",
   "metadata": {},
   "source": [
    "## Look up for current top stories:\n",
    "https://developer.nytimes.com/docs/top-stories-product/1/overview"
   ]
  },
  {
   "cell_type": "code",
   "execution_count": 64,
   "metadata": {},
   "outputs": [],
   "source": [
    "section = \"education\"\n",
    "query_url = f\"https://api.nytimes.com/svc/topstories/v2/{section}.json?api-key={apikey}\"\n",
    "\n",
    "r = requests.get(query_url)\n",
    "#pprint(r.json())"
   ]
  },
  {
   "cell_type": "markdown",
   "metadata": {},
   "source": [
    "## Article Search Endpoint\n",
    "https://developer.nytimes.com/docs/articlesearch-product/1/routes/articlesearch.json/get"
   ]
  },
  {
   "cell_type": "code",
   "execution_count": 53,
   "metadata": {},
   "outputs": [],
   "source": [
    "query = \"education\"\n",
    "begin_date = \"20210925\" # YYYYMMDD\n",
    "#filter_query = \"\\\"body:(\\\"space\\\") AND glocations:(\\\"BOSTON\\\")\\\"\"\n",
    "#filter_query = \"\\\"news_desk:(\\\"education\\\") AND body:(\\\"fund\\\") AND glocations:(\\\"NEW YORK CITY\\\")\\\"\"\n",
    "filter_query = \"\\\"news_desk: (\\\"education\\\") AND body:(\\\"fundraising\\\") \\\"\"\n",
    "page = \"0\" # <0-100>\n",
    "sort = \"relevance\" # newest, oldest\n",
    "\n",
    "query_url = f\"https://api.nytimes.com/svc/search/v2/articlesearch.json?\" \\\n",
    "f\"q={query}\" \\\n",
    "f\"&api-key={apikey}\" \\\n",
    "f\"&begin_date={begin_date}\" \\\n",
    "f\"&fq={filter_query}\" \\\n",
    "f\"&page={page}\" \\\n",
    "f\"&sort={sort}\" \\\n",
    "\n",
    "r = requests.get(query_url)\n",
    "\n",
    "jsonfile = r.json()\n",
    "#pprint(jsonfile)"
   ]
  },
  {
   "cell_type": "code",
   "execution_count": 54,
   "metadata": {},
   "outputs": [
    {
     "data": {
      "text/plain": [
       "dict_keys(['status', 'copyright', 'response'])"
      ]
     },
     "execution_count": 54,
     "metadata": {},
     "output_type": "execute_result"
    }
   ],
   "source": [
    "jsonfile.keys()"
   ]
  },
  {
   "cell_type": "code",
   "execution_count": 55,
   "metadata": {},
   "outputs": [
    {
     "data": {
      "text/plain": [
       "10"
      ]
     },
     "execution_count": 55,
     "metadata": {},
     "output_type": "execute_result"
    }
   ],
   "source": [
    "len(jsonfile['response']['docs'])"
   ]
  },
  {
   "cell_type": "code",
   "execution_count": 69,
   "metadata": {},
   "outputs": [
    {
     "data": {
      "text/plain": [
       "dict_keys(['abstract', 'web_url', 'snippet', 'lead_paragraph', 'source', 'multimedia', 'headline', 'keywords', 'pub_date', 'document_type', 'news_desk', 'section_name', 'byline', 'type_of_material', '_id', 'word_count', 'uri'])"
      ]
     },
     "execution_count": 69,
     "metadata": {},
     "output_type": "execute_result"
    }
   ],
   "source": [
    "articles = jsonfile['response']['docs']\n",
    "articles[0].keys()"
   ]
  },
  {
   "cell_type": "code",
   "execution_count": 100,
   "metadata": {},
   "outputs": [],
   "source": [
    "data = {'abstract': [],\n",
    "        'web_url': [],\n",
    "        'lead_paragraph': [],\n",
    "        'headline': [],  \n",
    "        'date': [], \n",
    "        'doc_type': [],\n",
    "        'material_type': [],\n",
    "        'keywords': []}"
   ]
  },
  {
   "cell_type": "code",
   "execution_count": 94,
   "metadata": {},
   "outputs": [],
   "source": [
    "import dateutil\n",
    "from dateutil.relativedelta import relativedelta"
   ]
  },
  {
   "cell_type": "code",
   "execution_count": 96,
   "metadata": {},
   "outputs": [],
   "source": [
    "# data = {'headline': [],  \n",
    "#     'date': [], \n",
    "#     'doc_type': [],\n",
    "#     'material_type': [],\n",
    "#     'section': [],\n",
    "#     'keywords': []}\n",
    "\n",
    "# articles = jsonfile['response']['docs'] \n",
    "# for article in articles: # For each article, make sure it falls within our date range\n",
    "#     date = dateutil.parser.parse(artile['pub_date']).date()\n",
    "#     data['date'].append(date)\n",
    "#     data['headline'].append(article['headline']['main']) \n",
    "#     if 'section' in article:\n",
    "#         data['section'].append(article['section_name'])\n",
    "#     else:\n",
    "#         data['section'].append(None)\n",
    "#     data['doc_type'].append(article['document_type'])\n",
    "#     if 'type_of_material' in article: \n",
    "#         data['material_type'].append(article['type_of_material'])\n",
    "#     else:\n",
    "#         data['material_type'].append(None)\n",
    "#     keywords = [keyword['value'] for keyword in article['keywords'] if keyword['name'] == 'subject']\n",
    "#     data['keywords'].append(keywords)\n"
   ]
  },
  {
   "cell_type": "code",
   "execution_count": 101,
   "metadata": {},
   "outputs": [],
   "source": [
    "for article in articles:\n",
    "    data['abstract'].append(article['abstract'])\n",
    "    data['web_url'].append(article['web_url'])\n",
    "    data['lead_paragraph'].append(article['lead_paragraph'])\n",
    "    data['headline'].append(article['headline']['main'])\n",
    "    data['date'].append(article['pub_date'])\n",
    "    data['doc_type'].append(article['document_type'])\n",
    "    data['material_type'].append(article['type_of_material'])\n",
    "    \n",
    "    keywords = [keyword['value'] for keyword in article['keywords'] if keyword['name'] == 'subject']\n",
    "    data['keywords'].append(keywords)"
   ]
  },
  {
   "cell_type": "code",
   "execution_count": 102,
   "metadata": {},
   "outputs": [],
   "source": [
    "df = pd.DataFrame(data) "
   ]
  },
  {
   "cell_type": "code",
   "execution_count": 103,
   "metadata": {},
   "outputs": [
    {
     "data": {
      "text/html": [
       "<div>\n",
       "<style scoped>\n",
       "    .dataframe tbody tr th:only-of-type {\n",
       "        vertical-align: middle;\n",
       "    }\n",
       "\n",
       "    .dataframe tbody tr th {\n",
       "        vertical-align: top;\n",
       "    }\n",
       "\n",
       "    .dataframe thead th {\n",
       "        text-align: right;\n",
       "    }\n",
       "</style>\n",
       "<table border=\"1\" class=\"dataframe\">\n",
       "  <thead>\n",
       "    <tr style=\"text-align: right;\">\n",
       "      <th></th>\n",
       "      <th>abstract</th>\n",
       "      <th>web_url</th>\n",
       "      <th>lead_paragraph</th>\n",
       "      <th>headline</th>\n",
       "      <th>date</th>\n",
       "      <th>doc_type</th>\n",
       "      <th>material_type</th>\n",
       "      <th>keywords</th>\n",
       "    </tr>\n",
       "  </thead>\n",
       "  <tbody>\n",
       "    <tr>\n",
       "      <td>0</td>\n",
       "      <td>Following a collection of vignettes from schoo...</td>\n",
       "      <td>https://www.nytimes.com/2021/09/24/education/s...</td>\n",
       "      <td>Last week, we published a special feature on s...</td>\n",
       "      <td>‘I’m So Tired’: Readers Respond to Schools Reo...</td>\n",
       "      <td>2021-09-24T09:00:25+0000</td>\n",
       "      <td>article</td>\n",
       "      <td>News</td>\n",
       "      <td>[Education (K-12), Coronavirus Risks and Safet...</td>\n",
       "    </tr>\n",
       "    <tr>\n",
       "      <td>1</td>\n",
       "      <td>Some districts have established robust virus t...</td>\n",
       "      <td>https://www.nytimes.com/2021/09/25/health/scho...</td>\n",
       "      <td>SAN ANTONIO — One recent Thursday, Ciara Brown...</td>\n",
       "      <td>‘I Need an Army’: Across America, Schools Cram...</td>\n",
       "      <td>2021-09-25T13:00:13+0000</td>\n",
       "      <td>article</td>\n",
       "      <td>News</td>\n",
       "      <td>[your-feed-science, Tests (Medical), Education...</td>\n",
       "    </tr>\n",
       "    <tr>\n",
       "      <td>2</td>\n",
       "      <td>Pedro Martinez is leaving San Antonio to becom...</td>\n",
       "      <td>https://www.nytimes.com/2021/09/24/us/pedro-ma...</td>\n",
       "      <td>For months, Pedro Martinez has been locked in ...</td>\n",
       "      <td>An Exit Interview With a School Superintendent...</td>\n",
       "      <td>2021-09-24T21:53:34+0000</td>\n",
       "      <td>article</td>\n",
       "      <td>News</td>\n",
       "      <td>[Education (K-12), Teachers and School Employe...</td>\n",
       "    </tr>\n",
       "    <tr>\n",
       "      <td>3</td>\n",
       "      <td>In Tennessee, where the governor allows famili...</td>\n",
       "      <td>https://www.nytimes.com/2021/09/23/us/politics...</td>\n",
       "      <td>FRANKLIN, Tenn. — Five years ago, Kim Hart’s s...</td>\n",
       "      <td>For Parents ​of Disabled Children, School Mask...</td>\n",
       "      <td>2021-09-23T07:00:16+0000</td>\n",
       "      <td>article</td>\n",
       "      <td>News</td>\n",
       "      <td>[Special Education, Intellectual Disabilities,...</td>\n",
       "    </tr>\n",
       "    <tr>\n",
       "      <td>4</td>\n",
       "      <td>The Biden administration is trying to address ...</td>\n",
       "      <td>https://www.nytimes.com/2021/09/21/upshot/chil...</td>\n",
       "      <td>At a Y.M.C.A. in San Antonio, 200 children are...</td>\n",
       "      <td>‘Can’t Compete’: Why Hiring for Child Care Is ...</td>\n",
       "      <td>2021-09-21T09:00:19+0000</td>\n",
       "      <td>article</td>\n",
       "      <td>News</td>\n",
       "      <td>[Child Care, Shortages, Children and Childhood...</td>\n",
       "    </tr>\n",
       "    <tr>\n",
       "      <td>5</td>\n",
       "      <td>The rulings were the second and third the last...</td>\n",
       "      <td>https://www.nytimes.com/2021/09/25/us/tennesse...</td>\n",
       "      <td>Two federal judges in Tennessee have dealt blo...</td>\n",
       "      <td>Two more federal judges rule against the Tenne...</td>\n",
       "      <td>2021-09-25T17:24:59+0000</td>\n",
       "      <td>article</td>\n",
       "      <td>News</td>\n",
       "      <td>[Special Education, Masks, Coronavirus (2019-n...</td>\n",
       "    </tr>\n",
       "    <tr>\n",
       "      <td>6</td>\n",
       "      <td>Thousands of Department of Education employees...</td>\n",
       "      <td>https://www.nytimes.com/2021/09/24/nyregion/ny...</td>\n",
       "      <td>The nation’s largest school system is preparin...</td>\n",
       "      <td>N.Y.C. schools prepare for staffing shortages ...</td>\n",
       "      <td>2021-09-24T17:10:06+0000</td>\n",
       "      <td>article</td>\n",
       "      <td>News</td>\n",
       "      <td>[Education (K-12), Teachers and School Employe...</td>\n",
       "    </tr>\n",
       "    <tr>\n",
       "      <td>7</td>\n",
       "      <td>The mandate, which affects well over 150,000 p...</td>\n",
       "      <td>https://www.nytimes.com/2021/09/25/nyregion/ny...</td>\n",
       "      <td>Mayor Bill de Blasio’s administration has been...</td>\n",
       "      <td>A federal appeals court delays New York City’s...</td>\n",
       "      <td>2021-09-25T14:04:40+0000</td>\n",
       "      <td>article</td>\n",
       "      <td>News</td>\n",
       "      <td>[Coronavirus (2019-nCoV), Teachers and School ...</td>\n",
       "    </tr>\n",
       "    <tr>\n",
       "      <td>8</td>\n",
       "      <td>Our focus on the problems with inner-city educ...</td>\n",
       "      <td>https://www.nytimes.com/2021/09/23/opinion/sub...</td>\n",
       "      <td>The Sweet Home Central School District serves ...</td>\n",
       "      <td>Have We Failed Suburban Schools?</td>\n",
       "      <td>2021-09-23T19:19:08+0000</td>\n",
       "      <td>article</td>\n",
       "      <td>Op-Ed</td>\n",
       "      <td>[internal-sub-only, Education (K-12), Suburbs,...</td>\n",
       "    </tr>\n",
       "    <tr>\n",
       "      <td>9</td>\n",
       "      <td>Some parents are hesitant to vaccinate 5-11-ye...</td>\n",
       "      <td>https://www.nytimes.com/2021/09/22/us/vaccines...</td>\n",
       "      <td>Today, we’re covering a coming fight over vacc...</td>\n",
       "      <td>Vaccines for Young Kids?</td>\n",
       "      <td>2021-09-22T17:23:01+0000</td>\n",
       "      <td>article</td>\n",
       "      <td>News</td>\n",
       "      <td>[Tests (Medical), Education (K-12), Shutdowns ...</td>\n",
       "    </tr>\n",
       "  </tbody>\n",
       "</table>\n",
       "</div>"
      ],
      "text/plain": [
       "                                            abstract  \\\n",
       "0  Following a collection of vignettes from schoo...   \n",
       "1  Some districts have established robust virus t...   \n",
       "2  Pedro Martinez is leaving San Antonio to becom...   \n",
       "3  In Tennessee, where the governor allows famili...   \n",
       "4  The Biden administration is trying to address ...   \n",
       "5  The rulings were the second and third the last...   \n",
       "6  Thousands of Department of Education employees...   \n",
       "7  The mandate, which affects well over 150,000 p...   \n",
       "8  Our focus on the problems with inner-city educ...   \n",
       "9  Some parents are hesitant to vaccinate 5-11-ye...   \n",
       "\n",
       "                                             web_url  \\\n",
       "0  https://www.nytimes.com/2021/09/24/education/s...   \n",
       "1  https://www.nytimes.com/2021/09/25/health/scho...   \n",
       "2  https://www.nytimes.com/2021/09/24/us/pedro-ma...   \n",
       "3  https://www.nytimes.com/2021/09/23/us/politics...   \n",
       "4  https://www.nytimes.com/2021/09/21/upshot/chil...   \n",
       "5  https://www.nytimes.com/2021/09/25/us/tennesse...   \n",
       "6  https://www.nytimes.com/2021/09/24/nyregion/ny...   \n",
       "7  https://www.nytimes.com/2021/09/25/nyregion/ny...   \n",
       "8  https://www.nytimes.com/2021/09/23/opinion/sub...   \n",
       "9  https://www.nytimes.com/2021/09/22/us/vaccines...   \n",
       "\n",
       "                                      lead_paragraph  \\\n",
       "0  Last week, we published a special feature on s...   \n",
       "1  SAN ANTONIO — One recent Thursday, Ciara Brown...   \n",
       "2  For months, Pedro Martinez has been locked in ...   \n",
       "3  FRANKLIN, Tenn. — Five years ago, Kim Hart’s s...   \n",
       "4  At a Y.M.C.A. in San Antonio, 200 children are...   \n",
       "5  Two federal judges in Tennessee have dealt blo...   \n",
       "6  The nation’s largest school system is preparin...   \n",
       "7  Mayor Bill de Blasio’s administration has been...   \n",
       "8  The Sweet Home Central School District serves ...   \n",
       "9  Today, we’re covering a coming fight over vacc...   \n",
       "\n",
       "                                            headline  \\\n",
       "0  ‘I’m So Tired’: Readers Respond to Schools Reo...   \n",
       "1  ‘I Need an Army’: Across America, Schools Cram...   \n",
       "2  An Exit Interview With a School Superintendent...   \n",
       "3  For Parents ​of Disabled Children, School Mask...   \n",
       "4  ‘Can’t Compete’: Why Hiring for Child Care Is ...   \n",
       "5  Two more federal judges rule against the Tenne...   \n",
       "6  N.Y.C. schools prepare for staffing shortages ...   \n",
       "7  A federal appeals court delays New York City’s...   \n",
       "8                   Have We Failed Suburban Schools?   \n",
       "9                           Vaccines for Young Kids?   \n",
       "\n",
       "                       date doc_type material_type  \\\n",
       "0  2021-09-24T09:00:25+0000  article          News   \n",
       "1  2021-09-25T13:00:13+0000  article          News   \n",
       "2  2021-09-24T21:53:34+0000  article          News   \n",
       "3  2021-09-23T07:00:16+0000  article          News   \n",
       "4  2021-09-21T09:00:19+0000  article          News   \n",
       "5  2021-09-25T17:24:59+0000  article          News   \n",
       "6  2021-09-24T17:10:06+0000  article          News   \n",
       "7  2021-09-25T14:04:40+0000  article          News   \n",
       "8  2021-09-23T19:19:08+0000  article         Op-Ed   \n",
       "9  2021-09-22T17:23:01+0000  article          News   \n",
       "\n",
       "                                            keywords  \n",
       "0  [Education (K-12), Coronavirus Risks and Safet...  \n",
       "1  [your-feed-science, Tests (Medical), Education...  \n",
       "2  [Education (K-12), Teachers and School Employe...  \n",
       "3  [Special Education, Intellectual Disabilities,...  \n",
       "4  [Child Care, Shortages, Children and Childhood...  \n",
       "5  [Special Education, Masks, Coronavirus (2019-n...  \n",
       "6  [Education (K-12), Teachers and School Employe...  \n",
       "7  [Coronavirus (2019-nCoV), Teachers and School ...  \n",
       "8  [internal-sub-only, Education (K-12), Suburbs,...  \n",
       "9  [Tests (Medical), Education (K-12), Shutdowns ...  "
      ]
     },
     "execution_count": 103,
     "metadata": {},
     "output_type": "execute_result"
    }
   ],
   "source": [
    "df"
   ]
  },
  {
   "cell_type": "code",
   "execution_count": 8,
   "metadata": {},
   "outputs": [
    {
     "data": {
      "text/plain": [
       "'https://www.nytimes.com/2021/09/24/education/schools-reopening-comments.html'"
      ]
     },
     "execution_count": 8,
     "metadata": {},
     "output_type": "execute_result"
    }
   ],
   "source": [
    "jsonfile['response']['docs'][0]['web_url']"
   ]
  },
  {
   "cell_type": "code",
   "execution_count": 10,
   "metadata": {},
   "outputs": [],
   "source": [
    "def get_articles(file):\n",
    "    \n",
    "    article_results = []\n",
    "    \n",
    "    for i in range(len(file)):\n",
    "        article_dict = {}\n",
    "        \n",
    "        article_dict['web_url'] = file[i]['web_url']\n",
    "        article_dict['abstract'] = file[i]['abstract']\n",
    "        \n",
    "        article_results.append(article_dict)\n",
    "        \n",
    "    return article_results"
   ]
  },
  {
   "cell_type": "code",
   "execution_count": 11,
   "metadata": {},
   "outputs": [],
   "source": [
    "list_articles = get_articles(jsonfile['response']['docs'])"
   ]
  },
  {
   "cell_type": "code",
   "execution_count": 12,
   "metadata": {},
   "outputs": [
    {
     "data": {
      "text/plain": [
       "10"
      ]
     },
     "execution_count": 12,
     "metadata": {},
     "output_type": "execute_result"
    }
   ],
   "source": [
    "len(list_articles)"
   ]
  },
  {
   "cell_type": "code",
   "execution_count": 13,
   "metadata": {},
   "outputs": [
    {
     "data": {
      "text/plain": [
       "{'web_url': 'https://www.nytimes.com/2021/09/24/education/schools-reopening-comments.html',\n",
       " 'abstract': 'Following a collection of vignettes from schools around the country, readers weighed in. Here is a selection of their comments.'}"
      ]
     },
     "execution_count": 13,
     "metadata": {},
     "output_type": "execute_result"
    }
   ],
   "source": [
    "list_articles[0]"
   ]
  },
  {
   "cell_type": "code",
   "execution_count": null,
   "metadata": {},
   "outputs": [],
   "source": []
  }
 ],
 "metadata": {
  "kernelspec": {
   "display_name": "Python 3",
   "language": "python",
   "name": "python3"
  },
  "language_info": {
   "codemirror_mode": {
    "name": "ipython",
    "version": 3
   },
   "file_extension": ".py",
   "mimetype": "text/x-python",
   "name": "python",
   "nbconvert_exporter": "python",
   "pygments_lexer": "ipython3",
   "version": "3.7.4"
  }
 },
 "nbformat": 4,
 "nbformat_minor": 2
}
