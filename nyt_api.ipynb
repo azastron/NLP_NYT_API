{
 "cells": [
  {
   "cell_type": "markdown",
   "metadata": {},
   "source": [
    "# Scraping NYT Articles and using NLP methods \n",
    "This is to identify and learn about potential EdTech donors!  "
   ]
  },
  {
   "cell_type": "code",
   "execution_count": 131,
   "metadata": {},
   "outputs": [],
   "source": [
    "# might need to use Beautiful Soup and Pickle for this work too.\n",
    "import requests\n",
    "import os\n",
    "from pprint import pprint\n",
    "\n",
    "#my usual suspects\n",
    "import pandas as pd\n",
    "import numpy as np\n",
    "import scipy as sp\n",
    "import matplotlib.pyplot as plt\n",
    "%matplotlib inline\n",
    "\n",
    "import dateutil\n",
    "from dateutil.relativedelta import relativedelta\n",
    "\n",
    "from wordcloud import WordCloud, STOPWORDS"
   ]
  },
  {
   "cell_type": "code",
   "execution_count": 113,
   "metadata": {},
   "outputs": [],
   "source": [
    "nyt_apikey = open('../nyt_apikey.txt','r')"
   ]
  },
  {
   "cell_type": "code",
   "execution_count": 114,
   "metadata": {},
   "outputs": [],
   "source": [
    "file = nyt_apikey.read().splitlines()"
   ]
  },
  {
   "cell_type": "code",
   "execution_count": 115,
   "metadata": {},
   "outputs": [],
   "source": [
    "myapikey = file[0]"
   ]
  },
  {
   "cell_type": "code",
   "execution_count": 116,
   "metadata": {},
   "outputs": [],
   "source": [
    "apikey = os.getenv('NYTIMES_APIKEY', myapikey)"
   ]
  },
  {
   "cell_type": "markdown",
   "metadata": {},
   "source": [
    "## Look up for current top stories:\n",
    "https://developer.nytimes.com/docs/top-stories-product/1/overview"
   ]
  },
  {
   "cell_type": "code",
   "execution_count": 64,
   "metadata": {},
   "outputs": [],
   "source": [
    "section = \"education\"\n",
    "query_url = f\"https://api.nytimes.com/svc/topstories/v2/{section}.json?api-key={apikey}\"\n",
    "\n",
    "r = requests.get(query_url)\n",
    "#pprint(r.json())"
   ]
  },
  {
   "cell_type": "markdown",
   "metadata": {},
   "source": [
    "## Article Search Endpoint\n",
    "https://developer.nytimes.com/docs/articlesearch-product/1/routes/articlesearch.json/get"
   ]
  },
  {
   "cell_type": "code",
   "execution_count": 117,
   "metadata": {},
   "outputs": [],
   "source": [
    "query = \"education\"\n",
    "begin_date = \"20210925\" # YYYYMMDD\n",
    "#filter_query = \"\\\"body:(\\\"space\\\") AND glocations:(\\\"BOSTON\\\")\\\"\"\n",
    "#filter_query = \"\\\"news_desk:(\\\"education\\\") AND body:(\\\"fund\\\") AND glocations:(\\\"NEW YORK CITY\\\")\\\"\"\n",
    "filter_query = \"\\\"news_desk: (\\\"education\\\") AND body:(\\\"fundraising\\\") \\\"\"\n",
    "page = \"0\" # <0-100>\n",
    "sort = \"relevance\" # newest, oldest\n",
    "\n",
    "query_url = f\"https://api.nytimes.com/svc/search/v2/articlesearch.json?\" \\\n",
    "f\"q={query}\" \\\n",
    "f\"&api-key={apikey}\" \\\n",
    "f\"&begin_date={begin_date}\" \\\n",
    "f\"&fq={filter_query}\" \\\n",
    "f\"&page={page}\" \\\n",
    "f\"&sort={sort}\" \\\n",
    "\n",
    "r = requests.get(query_url)\n",
    "\n",
    "jsonfile = r.json()\n",
    "#pprint(jsonfile)"
   ]
  },
  {
   "cell_type": "code",
   "execution_count": 118,
   "metadata": {},
   "outputs": [
    {
     "data": {
      "text/plain": [
       "dict_keys(['status', 'copyright', 'response'])"
      ]
     },
     "execution_count": 118,
     "metadata": {},
     "output_type": "execute_result"
    }
   ],
   "source": [
    "jsonfile.keys()"
   ]
  },
  {
   "cell_type": "code",
   "execution_count": 119,
   "metadata": {},
   "outputs": [
    {
     "data": {
      "text/plain": [
       "10"
      ]
     },
     "execution_count": 119,
     "metadata": {},
     "output_type": "execute_result"
    }
   ],
   "source": [
    "len(jsonfile['response']['docs'])"
   ]
  },
  {
   "cell_type": "code",
   "execution_count": 120,
   "metadata": {},
   "outputs": [
    {
     "data": {
      "text/plain": [
       "dict_keys(['abstract', 'web_url', 'snippet', 'lead_paragraph', 'print_section', 'print_page', 'source', 'multimedia', 'headline', 'keywords', 'pub_date', 'document_type', 'news_desk', 'section_name', 'byline', 'type_of_material', '_id', 'word_count', 'uri'])"
      ]
     },
     "execution_count": 120,
     "metadata": {},
     "output_type": "execute_result"
    }
   ],
   "source": [
    "articles = jsonfile['response']['docs']\n",
    "articles[0].keys()"
   ]
  },
  {
   "cell_type": "code",
   "execution_count": 121,
   "metadata": {},
   "outputs": [],
   "source": [
    "data = {'abstract': [],\n",
    "        'web_url': [],\n",
    "        'lead_paragraph': [],\n",
    "        'headline': [],  \n",
    "        'date': [], \n",
    "        'doc_type': [],\n",
    "        'material_type': [],\n",
    "        'keywords': []}"
   ]
  },
  {
   "cell_type": "code",
   "execution_count": 122,
   "metadata": {},
   "outputs": [],
   "source": [
    "# def get_articles(file):\n",
    "    \n",
    "#     article_results = []\n",
    "    \n",
    "#     for i in range(len(file)):\n",
    "#         article_dict = {}\n",
    "        \n",
    "#         article_dict['web_url'] = file[i]['web_url']\n",
    "#         article_dict['abstract'] = file[i]['abstract']\n",
    "        \n",
    "#         article_results.append(article_dict)\n",
    "        \n",
    "#     return article_results\n",
    "\n",
    "# list_articles = get_articles(jsonfile['response']['docs'])"
   ]
  },
  {
   "cell_type": "code",
   "execution_count": 123,
   "metadata": {},
   "outputs": [],
   "source": [
    "for article in articles:\n",
    "    data['abstract'].append(article['abstract'])\n",
    "    data['web_url'].append(article['web_url'])\n",
    "    data['lead_paragraph'].append(article['lead_paragraph'])\n",
    "    data['headline'].append(article['headline']['main'])\n",
    "    data['date'].append(article['pub_date'])\n",
    "    data['doc_type'].append(article['document_type'])\n",
    "    data['material_type'].append(article['type_of_material'])\n",
    "    \n",
    "    keywords = [keyword['value'] for keyword in article['keywords'] if keyword['name'] == 'subject']\n",
    "    data['keywords'].append(keywords)"
   ]
  },
  {
   "cell_type": "code",
   "execution_count": 124,
   "metadata": {},
   "outputs": [],
   "source": [
    "df = pd.DataFrame(data) "
   ]
  },
  {
   "cell_type": "code",
   "execution_count": 127,
   "metadata": {},
   "outputs": [],
   "source": [
    "df['date'] = pd.to_datetime(df['date'])"
   ]
  },
  {
   "cell_type": "code",
   "execution_count": 129,
   "metadata": {},
   "outputs": [
    {
     "data": {
      "text/html": [
       "<div>\n",
       "<style scoped>\n",
       "    .dataframe tbody tr th:only-of-type {\n",
       "        vertical-align: middle;\n",
       "    }\n",
       "\n",
       "    .dataframe tbody tr th {\n",
       "        vertical-align: top;\n",
       "    }\n",
       "\n",
       "    .dataframe thead th {\n",
       "        text-align: right;\n",
       "    }\n",
       "</style>\n",
       "<table border=\"1\" class=\"dataframe\">\n",
       "  <thead>\n",
       "    <tr style=\"text-align: right;\">\n",
       "      <th></th>\n",
       "      <th>abstract</th>\n",
       "      <th>web_url</th>\n",
       "      <th>lead_paragraph</th>\n",
       "      <th>headline</th>\n",
       "      <th>date</th>\n",
       "      <th>doc_type</th>\n",
       "      <th>material_type</th>\n",
       "      <th>keywords</th>\n",
       "    </tr>\n",
       "  </thead>\n",
       "  <tbody>\n",
       "    <tr>\n",
       "      <td>0</td>\n",
       "      <td>Some districts have established robust virus t...</td>\n",
       "      <td>https://www.nytimes.com/2021/09/25/health/scho...</td>\n",
       "      <td>SAN ANTONIO — One recent Thursday, Ciara Brown...</td>\n",
       "      <td>‘I Need an Army’: Across America, Schools Cram...</td>\n",
       "      <td>2021-09-25 13:00:13+00:00</td>\n",
       "      <td>article</td>\n",
       "      <td>News</td>\n",
       "      <td>[your-feed-science, Tests (Medical), Education...</td>\n",
       "    </tr>\n",
       "    <tr>\n",
       "      <td>1</td>\n",
       "      <td>The rulings were the second and third the last...</td>\n",
       "      <td>https://www.nytimes.com/2021/09/25/us/tennesse...</td>\n",
       "      <td>Two federal judges in Tennessee have dealt blo...</td>\n",
       "      <td>Two more federal judges rule against the Tenne...</td>\n",
       "      <td>2021-09-25 17:24:59+00:00</td>\n",
       "      <td>article</td>\n",
       "      <td>News</td>\n",
       "      <td>[Special Education, Masks, Coronavirus (2019-n...</td>\n",
       "    </tr>\n",
       "  </tbody>\n",
       "</table>\n",
       "</div>"
      ],
      "text/plain": [
       "                                            abstract  \\\n",
       "0  Some districts have established robust virus t...   \n",
       "1  The rulings were the second and third the last...   \n",
       "\n",
       "                                             web_url  \\\n",
       "0  https://www.nytimes.com/2021/09/25/health/scho...   \n",
       "1  https://www.nytimes.com/2021/09/25/us/tennesse...   \n",
       "\n",
       "                                      lead_paragraph  \\\n",
       "0  SAN ANTONIO — One recent Thursday, Ciara Brown...   \n",
       "1  Two federal judges in Tennessee have dealt blo...   \n",
       "\n",
       "                                            headline  \\\n",
       "0  ‘I Need an Army’: Across America, Schools Cram...   \n",
       "1  Two more federal judges rule against the Tenne...   \n",
       "\n",
       "                       date doc_type material_type  \\\n",
       "0 2021-09-25 13:00:13+00:00  article          News   \n",
       "1 2021-09-25 17:24:59+00:00  article          News   \n",
       "\n",
       "                                            keywords  \n",
       "0  [your-feed-science, Tests (Medical), Education...  \n",
       "1  [Special Education, Masks, Coronavirus (2019-n...  "
      ]
     },
     "execution_count": 129,
     "metadata": {},
     "output_type": "execute_result"
    }
   ],
   "source": [
    "df.head(2)"
   ]
  },
  {
   "cell_type": "code",
   "execution_count": 132,
   "metadata": {},
   "outputs": [
    {
     "data": {
      "text/plain": [
       "0    Some districts have established robust virus t...\n",
       "1    The rulings were the second and third the last...\n",
       "2    The mandate, which affects well over 150,000 p...\n",
       "3    President Biden’s infrastructure plan would cr...\n",
       "4    Adam Simon Levine’s debut puzzle speaks to us,...\n",
       "5    Vera Lutter evaded wildfires and sacrificed me...\n",
       "6    Priyanka Sethy and Matthew Stock put us to the...\n",
       "7    Exposing the complicated truth of America's pa...\n",
       "8    Thirty years after she testified before the Se...\n",
       "9    The ranks of home health aides are expected to...\n",
       "Name: abstract, dtype: object"
      ]
     },
     "execution_count": 132,
     "metadata": {},
     "output_type": "execute_result"
    }
   ],
   "source": [
    "df['abstract']"
   ]
  },
  {
   "cell_type": "code",
   "execution_count": 138,
   "metadata": {},
   "outputs": [],
   "source": [
    "my_wc = WordCloud(width = 800, height = 800, \n",
    "                background_color ='black', \n",
    "                #stopwords = stop_words, \n",
    "                min_font_size = 10).generate(str(df['abstract']))"
   ]
  },
  {
   "cell_type": "code",
   "execution_count": 142,
   "metadata": {},
   "outputs": [
    {
     "data": {
      "text/plain": [
       "<matplotlib.image.AxesImage at 0x7fc25f7474d0>"
      ]
     },
     "execution_count": 142,
     "metadata": {},
     "output_type": "execute_result"
    },
    {
     "data": {
      "image/png": "[encoded data removed]",
      "text/plain": [
       "<Figure size 576x432 with 1 Axes>"
      ]
     },
     "metadata": {
      "needs_background": "light"
     },
     "output_type": "display_data"
    }
   ],
   "source": [
    "plt.figure(figsize=(8,6))\n",
    "plt.imshow(my_wc)"
   ]
  },
  {
   "cell_type": "code",
   "execution_count": null,
   "metadata": {},
   "outputs": [],
   "source": []
  }
 ],
 "metadata": {
  "kernelspec": {
   "display_name": "Python 3",
   "language": "python",
   "name": "python3"
  },
  "language_info": {
   "codemirror_mode": {
    "name": "ipython",
    "version": 3
   },
   "file_extension": ".py",
   "mimetype": "text/x-python",
   "name": "python",
   "nbconvert_exporter": "python",
   "pygments_lexer": "ipython3",
   "version": "3.7.4"
  }
 },
 "nbformat": 4,
 "nbformat_minor": 2
}
